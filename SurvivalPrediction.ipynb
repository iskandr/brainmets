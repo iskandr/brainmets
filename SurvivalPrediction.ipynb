{
 "metadata": {
  "name": ""
 },
 "nbformat": 3,
 "nbformat_minor": 0,
 "worksheets": [
  {
   "cells": [
    {
     "cell_type": "code",
     "collapsed": false,
     "input": [
      "df = pd.read_excel('BrainMets.xlsx', 'DATA', header=1)"
     ],
     "language": "python",
     "metadata": {},
     "outputs": [],
     "prompt_number": 7
    },
    {
     "cell_type": "code",
     "collapsed": false,
     "input": [
      "pred = df['Prediction(Cleveland Clinic)']"
     ],
     "language": "python",
     "metadata": {},
     "outputs": [],
     "prompt_number": 10
    },
    {
     "cell_type": "code",
     "collapsed": false,
     "input": [
      "df.columns"
     ],
     "language": "python",
     "metadata": {},
     "outputs": [
      {
       "metadata": {},
       "output_type": "pyout",
       "prompt_number": 17,
       "text": [
        "Index([u'age', u'cancer type', u'# of tumors', u'Extracranial Disease Status', u'K Score', u'ECOG', u'Prior WBRT', u'Brain Tumor Sx', u'RPA', u'Diagnosis of Primary at the same time as Brain tumor', u'Prediction(Cleveland Clinic)', u' Prediction (Lanie Francis)', u'Prediction(Flickinger)', u'Prediction(Loefler', u'Prediction(Knisely)', u'Prediction(Lunsford)', u'Prediction (Tahrini)', u'Prediction (Sheehan)', u'Prediction (Linskey)', u'Prediction(friedman)', u'Prediction(Stupp)', u'Prediction(Rakfal)', u'Prediction(Rush)', u' Prediction( Kondziolka)', u'Dead', u'Date Endpoint', u'GK 1', u'SurvivalMonths', u'Study'], dtype='object')"
       ]
      }
     ],
     "prompt_number": 17
    },
    {
     "cell_type": "code",
     "collapsed": false,
     "input": [],
     "language": "python",
     "metadata": {},
     "outputs": [],
     "prompt_number": 22
    },
    {
     "cell_type": "code",
     "collapsed": false,
     "input": [
      "dead = df['Dead'] == 1"
     ],
     "language": "python",
     "metadata": {},
     "outputs": [],
     "prompt_number": 26
    },
    {
     "cell_type": "code",
     "collapsed": false,
     "input": [
      "df.ix[~dead]['SurvivalMonths'].describe()"
     ],
     "language": "python",
     "metadata": {},
     "outputs": [
      {
       "metadata": {},
       "output_type": "pyout",
       "prompt_number": 31,
       "text": [
        "count    136.000000\n",
        "mean      14.908028\n",
        "std       13.038385\n",
        "min        0.000000\n",
        "25%        8.071233\n",
        "50%       14.268493\n",
        "75%       20.066096\n",
        "max      132.032877\n",
        "Name: SurvivalMonths, dtype: float64"
       ]
      }
     ],
     "prompt_number": 31
    },
    {
     "cell_type": "code",
     "collapsed": false,
     "input": [
      "df['cancer type'].unique()"
     ],
     "language": "python",
     "metadata": {},
     "outputs": [
      {
       "metadata": {},
       "output_type": "pyout",
       "prompt_number": 111,
       "text": [
        "array([u'Breast', u'NSCLC', u'SCLC', u'RCC', u'Melanoma', u'melanoma',\n",
        "       u'Carcinoid', u'Breast ', u'Endometrial', u'Sarcoma', u'Colon',\n",
        "       u'Rectal', u'breast', u'Prostate', u'Uterine', u'Nasopharyngeal'], dtype=object)"
       ]
      }
     ],
     "prompt_number": 111
    },
    {
     "cell_type": "code",
     "collapsed": false,
     "input": [
      "df2 = df.copy()"
     ],
     "language": "python",
     "metadata": {},
     "outputs": [],
     "prompt_number": 112
    },
    {
     "cell_type": "code",
     "collapsed": false,
     "input": [
      "df2['cancer type']  = df2['cancer type'].str.lower()"
     ],
     "language": "python",
     "metadata": {},
     "outputs": [],
     "prompt_number": 113
    },
    {
     "cell_type": "code",
     "collapsed": false,
     "input": [
      "df2['cancer type']"
     ],
     "language": "python",
     "metadata": {},
     "outputs": [
      {
       "metadata": {},
       "output_type": "pyout",
       "prompt_number": 114,
       "text": [
        "0     breast\n",
        "1      nsclc\n",
        "2      nsclc\n",
        "3      nsclc\n",
        "4       sclc\n",
        "5      nsclc\n",
        "6      nsclc\n",
        "7      nsclc\n",
        "8      nsclc\n",
        "9      nsclc\n",
        "10     nsclc\n",
        "11     nsclc\n",
        "12    breast\n",
        "13    breast\n",
        "14    breast\n",
        "...\n",
        "341              sclc\n",
        "342             nsclc\n",
        "343            breast\n",
        "344             nsclc\n",
        "345             nsclc\n",
        "346             nsclc\n",
        "347              sclc\n",
        "348             nsclc\n",
        "349           uterine\n",
        "350    nasopharyngeal\n",
        "351             nsclc\n",
        "352             nsclc\n",
        "353             nsclc\n",
        "354             colon\n",
        "355            breast\n",
        "Name: cancer type, Length: 356, dtype: object"
       ]
      }
     ],
     "prompt_number": 114
    },
    {
     "cell_type": "code",
     "collapsed": false,
     "input": [
      "df3 = df2.copy()"
     ],
     "language": "python",
     "metadata": {},
     "outputs": [],
     "prompt_number": 115
    },
    {
     "cell_type": "code",
     "collapsed": false,
     "input": [
      "cancer_types = df2['cancer type'].unique()"
     ],
     "language": "python",
     "metadata": {},
     "outputs": [],
     "prompt_number": 116
    },
    {
     "cell_type": "code",
     "collapsed": false,
     "input": [
      "cancer_type_col = np.zeros(len(df2['cancer type']), dtype=int)"
     ],
     "language": "python",
     "metadata": {},
     "outputs": [],
     "prompt_number": 117
    },
    {
     "cell_type": "code",
     "collapsed": false,
     "input": [
      "for (i, cancer_type) in enumerate(cancer_types):\n",
      "    cancer_type_col[np.array(df2['cancer type'] == cancer_type)] = i"
     ],
     "language": "python",
     "metadata": {},
     "outputs": [],
     "prompt_number": 118
    },
    {
     "cell_type": "code",
     "collapsed": false,
     "input": [
      "cancer_type_col"
     ],
     "language": "python",
     "metadata": {},
     "outputs": [
      {
       "metadata": {},
       "output_type": "pyout",
       "prompt_number": 119,
       "text": [
        "array([ 0,  1,  1,  1,  2,  1,  1,  1,  1,  1,  1,  1,  0,  0,  0,  0,  0,\n",
        "        1,  0,  1,  0,  0,  0,  1,  0,  0,  0,  1,  1,  0,  0,  0,  1,  0,\n",
        "        0,  0,  1,  1,  3,  1,  1,  1,  1,  2,  0,  0,  1,  1,  0,  1,  1,\n",
        "        1,  1,  1,  1,  1,  1,  1,  1,  4,  4,  4,  4,  1,  1,  0,  4,  1,\n",
        "        1,  1,  4,  1,  1,  0,  2,  1,  0,  1,  1,  3,  3,  1,  1,  1,  0,\n",
        "        4,  1,  1,  1,  4,  1,  1,  1,  3,  4,  1,  4,  1,  1,  1,  1,  1,\n",
        "        1,  4,  2,  1,  4,  1,  0,  4,  4,  1,  1,  1,  1,  4,  4,  0,  0,\n",
        "        4,  2,  0,  3,  1,  0,  2,  4,  1,  1,  0,  1,  3,  1,  2,  2,  2,\n",
        "        4,  4,  1,  3,  1,  5,  1,  0,  1,  1,  4,  1,  1,  4,  1,  1,  4,\n",
        "        2,  0,  1,  4,  1,  0,  0,  1,  1,  6,  4,  1,  1,  1,  1,  1,  1,\n",
        "        1,  1,  4,  4,  4,  0,  0,  1,  1,  1,  1,  0,  1,  1,  1,  1,  1,\n",
        "        1,  3,  3,  1,  4,  1,  4,  1,  1,  1,  1,  7,  0,  2,  3,  1,  1,\n",
        "        0,  4,  0,  1,  1,  2,  1,  4,  1,  1,  1,  3,  0,  1,  1,  0,  1,\n",
        "        2,  1,  1,  2,  0,  4,  1,  0,  0,  1,  1,  1,  1,  1,  1,  1,  0,\n",
        "        1,  2,  1,  1,  1,  4,  8,  0,  0,  1,  1,  1,  4,  1,  0,  2,  1,\n",
        "        1,  4,  4,  1,  1,  1,  1,  1,  1,  1,  3,  1,  1,  4,  4,  4,  1,\n",
        "        4,  1,  2,  4,  1,  1,  1,  9,  0,  1,  1,  1,  0,  2, 10,  4,  0,\n",
        "        0,  6,  1,  0,  1,  1,  2,  1,  7,  2,  1,  1,  1,  0,  3,  1,  3,\n",
        "        0,  9,  1,  4,  0,  1,  0,  1,  0,  0,  3,  0,  1,  4,  1,  1,  3,\n",
        "        2,  1,  1,  1,  0,  1,  1,  2,  1,  2,  1,  4,  1,  1, 11,  0,  1,\n",
        "        0,  2,  1,  0,  1,  1,  1,  2,  1, 12, 13,  1,  1,  1,  9,  0])"
       ]
      }
     ],
     "prompt_number": 119
    },
    {
     "cell_type": "code",
     "collapsed": false,
     "input": [
      "df3['cancer type'] = cancer_type_col"
     ],
     "language": "python",
     "metadata": {},
     "outputs": [],
     "prompt_number": 120
    },
    {
     "cell_type": "code",
     "collapsed": false,
     "input": [
      "X = df3[['age', 'cancer type', '# of tumors',  'ECOG', 'Prior WBRT', 'Brain Tumor Sx', 'RPA', 'Diagnosis of Primary at the same time as Brain tumor']]"
     ],
     "language": "python",
     "metadata": {},
     "outputs": [],
     "prompt_number": 121
    },
    {
     "cell_type": "code",
     "collapsed": false,
     "input": [
      "sklearn.preprocessing.OneHotEncoder?"
     ],
     "language": "python",
     "metadata": {},
     "outputs": [],
     "prompt_number": 230
    },
    {
     "cell_type": "code",
     "collapsed": false,
     "input": [
      "months_to_live = 12\n",
      "n_train = 250\n",
      "mask = (df['Dead'] | (df['SurvivalMonths'] >= months_to_live))\n",
      "y = np.array((df['Dead'] & (df['SurvivalMonths'] < months_to_live)).ix[mask] == 1)\n",
      "Xa = np.array(X.ix[mask]).astype('int')\n",
      "n_features = Xa.shape[1]\n",
      "binarize_mask = np.ones(n_features, dtype=bool)\n",
      "binarize_mask[0] = False\n",
      "binarizer = sklearn.preprocessing.OneHotEncoder(categorical_features = binarize_mask)\n",
      "Xa = binarizer.fit_transform(Xa).todense()\n",
      "idx = np.arange(len(y))\n",
      "np.random.shuffle(idx)\n",
      "yshuffle = y[idx]\n",
      "Xshuffle = Xa[idx]\n",
      "Xtrain = Xshuffle[:n_train]\n",
      "Ytrain = yshuffle[:n_train]\n",
      "Xtest = Xshuffle[n_train:]\n",
      "Ytest = yshuffle[n_train:]\n",
      "print Xtest[[0,1,2], :]\n",
      "print Ytest[[0,1,2]]\n",
      "print np.mean(Ytrain)\n",
      "print np.mean(Ytest)\n",
      "print Xtrain.shape\n",
      "print Xtest.shape"
     ],
     "language": "python",
     "metadata": {},
     "outputs": [
      {
       "output_type": "stream",
       "stream": "stdout",
       "text": [
        "[[  0.   1.   0.   0.   0.   0.   0.   0.   0.   0.   0.   0.   0.   1.\n",
        "    0.   0.   0.   0.   0.   0.   0.   0.   0.   0.   0.   0.   0.   0.\n",
        "    0.   0.   0.   0.   1.   0.   0.   0.   1.   0.   1.   0.   0.   0.\n",
        "    0.   1.   0.   0.   1.  61.]\n",
        " [  0.   1.   0.   0.   0.   0.   0.   0.   0.   0.   0.   0.   0.   1.\n",
        "    0.   0.   0.   0.   0.   0.   0.   0.   0.   0.   0.   0.   0.   0.\n",
        "    0.   0.   0.   0.   1.   0.   0.   0.   1.   0.   0.   0.   1.   0.\n",
        "    1.   0.   0.   0.   1.  53.]\n",
        " [  0.   1.   0.   0.   0.   0.   0.   0.   0.   0.   0.   0.   0.   1.\n",
        "    0.   0.   0.   0.   0.   0.   0.   0.   0.   0.   0.   0.   0.   0.\n",
        "    0.   0.   0.   0.   0.   1.   0.   0.   1.   0.   1.   0.   0.   0.\n",
        "    0.   1.   0.   0.   1.  55.]]\n",
        "[False False False]\n",
        "0.592\n",
        "0.425925925926\n",
        "(250, 48)\n",
        "(54, 48)\n"
       ]
      }
     ],
     "prompt_number": 278
    },
    {
     "cell_type": "code",
     "collapsed": false,
     "input": [
      "lr = sklearn.linear_model.LogisticRegression()\n",
      "lr.fit(Xtrain, Ytrain)\n",
      "Ypred = lr.predict(Xtest)\n",
      "print(np.mean(Ypred))\n",
      "np.mean(Ypred == Ytest)"
     ],
     "language": "python",
     "metadata": {},
     "outputs": [
      {
       "output_type": "stream",
       "stream": "stdout",
       "text": [
        "0.740740740741\n"
       ]
      },
      {
       "metadata": {},
       "output_type": "pyout",
       "prompt_number": 279,
       "text": [
        "0.57407407407407407"
       ]
      }
     ],
     "prompt_number": 279
    },
    {
     "cell_type": "code",
     "collapsed": false,
     "input": [
      "rf = sklearn.ensemble.RandomForestClassifier(n_estimators = 300)\n",
      "rf.fit(Xtrain, Ytrain)\n",
      "Ypred_rf = rf.predict(Xtest)\n",
      "print(np.mean(Ypred_rf))\n",
      "np.mean(Ypred_rf == Ytest)"
     ],
     "language": "python",
     "metadata": {},
     "outputs": [
      {
       "output_type": "stream",
       "stream": "stdout",
       "text": [
        "0.666666666667\n"
       ]
      },
      {
       "metadata": {},
       "output_type": "pyout",
       "prompt_number": 280,
       "text": [
        "0.61111111111111116"
       ]
      }
     ],
     "prompt_number": 280
    },
    {
     "cell_type": "code",
     "collapsed": false,
     "input": [
      "et = sklearn.ensemble.ExtraTreesClassifier(n_estimators = 300)\n",
      "et.fit(Xtrain, Ytrain)\n",
      "Ypred_et = et.predict(Xtest)\n",
      "print(np.mean(Ypred_et))\n",
      "np.mean(Ypred_et == Ytest)"
     ],
     "language": "python",
     "metadata": {},
     "outputs": [
      {
       "output_type": "stream",
       "stream": "stdout",
       "text": [
        "0.611111111111\n"
       ]
      },
      {
       "metadata": {},
       "output_type": "pyout",
       "prompt_number": 281,
       "text": [
        "0.59259259259259256"
       ]
      }
     ],
     "prompt_number": 281
    },
    {
     "cell_type": "code",
     "collapsed": false,
     "input": [
      "rf = sklearn.ensemble.RandomForestRegressor(n_estimators=200)"
     ],
     "language": "python",
     "metadata": {},
     "outputs": [],
     "prompt_number": 142
    },
    {
     "cell_type": "code",
     "collapsed": false,
     "input": [
      "rf.fit(Xtrain, Ytrain)"
     ],
     "language": "python",
     "metadata": {},
     "outputs": [
      {
       "metadata": {},
       "output_type": "pyout",
       "prompt_number": 143,
       "text": [
        "RandomForestRegressor(bootstrap=True, compute_importances=None,\n",
        "           criterion='mse', max_depth=None, max_features='auto',\n",
        "           min_density=None, min_samples_leaf=1, min_samples_split=2,\n",
        "           n_estimators=200, n_jobs=1, oob_score=False, random_state=None,\n",
        "           verbose=0)"
       ]
      }
     ],
     "prompt_number": 143
    },
    {
     "cell_type": "code",
     "collapsed": false,
     "input": [
      "Ypred_rf = rf.predict(Xtest)"
     ],
     "language": "python",
     "metadata": {},
     "outputs": [],
     "prompt_number": 144
    },
    {
     "cell_type": "code",
     "collapsed": false,
     "input": [
      "pd.DataFrame({'pred_rf': Ypred_rf, 'pred': Ypred,  'actual':Ytest})"
     ],
     "language": "python",
     "metadata": {},
     "outputs": [
      {
       "html": [
        "<div style=\"max-height:1000px;max-width:1500px;overflow:auto;\">\n",
        "<table border=\"1\" class=\"dataframe\">\n",
        "  <thead>\n",
        "    <tr style=\"text-align: right;\">\n",
        "      <th></th>\n",
        "      <th>actual</th>\n",
        "      <th>pred</th>\n",
        "      <th>pred_rf</th>\n",
        "    </tr>\n",
        "  </thead>\n",
        "  <tbody>\n",
        "    <tr>\n",
        "      <th>250</th>\n",
        "      <td>  6.049300</td>\n",
        "      <td> 10.732717</td>\n",
        "      <td>  4.840301</td>\n",
        "    </tr>\n",
        "    <tr>\n",
        "      <th>251</th>\n",
        "      <td> 23.800000</td>\n",
        "      <td> 13.495958</td>\n",
        "      <td> 18.378786</td>\n",
        "    </tr>\n",
        "    <tr>\n",
        "      <th>252</th>\n",
        "      <td> 18.900000</td>\n",
        "      <td> 11.068245</td>\n",
        "      <td> 14.445641</td>\n",
        "    </tr>\n",
        "    <tr>\n",
        "      <th>253</th>\n",
        "      <td>  3.100000</td>\n",
        "      <td> 11.867038</td>\n",
        "      <td>  9.135485</td>\n",
        "    </tr>\n",
        "    <tr>\n",
        "      <th>254</th>\n",
        "      <td>  1.300000</td>\n",
        "      <td>  6.723504</td>\n",
        "      <td> 12.443664</td>\n",
        "    </tr>\n",
        "    <tr>\n",
        "      <th>255</th>\n",
        "      <td>  3.300000</td>\n",
        "      <td>  9.705822</td>\n",
        "      <td>  5.914341</td>\n",
        "    </tr>\n",
        "    <tr>\n",
        "      <th>256</th>\n",
        "      <td>  4.274000</td>\n",
        "      <td> 10.399452</td>\n",
        "      <td> 21.675905</td>\n",
        "    </tr>\n",
        "    <tr>\n",
        "      <th>257</th>\n",
        "      <td>  1.808200</td>\n",
        "      <td>  9.278321</td>\n",
        "      <td> 11.000545</td>\n",
        "    </tr>\n",
        "    <tr>\n",
        "      <th>258</th>\n",
        "      <td> 14.137000</td>\n",
        "      <td> 11.799620</td>\n",
        "      <td> 14.883739</td>\n",
        "    </tr>\n",
        "    <tr>\n",
        "      <th>259</th>\n",
        "      <td>  1.200000</td>\n",
        "      <td> 12.098807</td>\n",
        "      <td> 13.011445</td>\n",
        "    </tr>\n",
        "    <tr>\n",
        "      <th>260</th>\n",
        "      <td>  4.800000</td>\n",
        "      <td> 11.987097</td>\n",
        "      <td> 15.913833</td>\n",
        "    </tr>\n",
        "    <tr>\n",
        "      <th>261</th>\n",
        "      <td> 74.100000</td>\n",
        "      <td>  8.699410</td>\n",
        "      <td> 12.040907</td>\n",
        "    </tr>\n",
        "    <tr>\n",
        "      <th>262</th>\n",
        "      <td>  2.400000</td>\n",
        "      <td> 11.696597</td>\n",
        "      <td>  9.861757</td>\n",
        "    </tr>\n",
        "    <tr>\n",
        "      <th>263</th>\n",
        "      <td>  9.700000</td>\n",
        "      <td> 11.618769</td>\n",
        "      <td> 11.609613</td>\n",
        "    </tr>\n",
        "    <tr>\n",
        "      <th>264</th>\n",
        "      <td> 21.500000</td>\n",
        "      <td> 10.670155</td>\n",
        "      <td> 14.843507</td>\n",
        "    </tr>\n",
        "    <tr>\n",
        "      <th>265</th>\n",
        "      <td>  6.443800</td>\n",
        "      <td> 10.433564</td>\n",
        "      <td>  9.389594</td>\n",
        "    </tr>\n",
        "    <tr>\n",
        "      <th>266</th>\n",
        "      <td>  1.300000</td>\n",
        "      <td> 12.169606</td>\n",
        "      <td> 15.163008</td>\n",
        "    </tr>\n",
        "    <tr>\n",
        "      <th>267</th>\n",
        "      <td> 14.500000</td>\n",
        "      <td> 12.343970</td>\n",
        "      <td>  7.772904</td>\n",
        "    </tr>\n",
        "    <tr>\n",
        "      <th>268</th>\n",
        "      <td>  3.813700</td>\n",
        "      <td> 12.599335</td>\n",
        "      <td> 16.443356</td>\n",
        "    </tr>\n",
        "    <tr>\n",
        "      <th>269</th>\n",
        "      <td>  0.624700</td>\n",
        "      <td>  9.311059</td>\n",
        "      <td>  9.694087</td>\n",
        "    </tr>\n",
        "    <tr>\n",
        "      <th>270</th>\n",
        "      <td>  2.104100</td>\n",
        "      <td> 12.212587</td>\n",
        "      <td> 17.587849</td>\n",
        "    </tr>\n",
        "    <tr>\n",
        "      <th>271</th>\n",
        "      <td>  0.900000</td>\n",
        "      <td> 13.108865</td>\n",
        "      <td> 16.103315</td>\n",
        "    </tr>\n",
        "    <tr>\n",
        "      <th>272</th>\n",
        "      <td> 25.052100</td>\n",
        "      <td> 10.748868</td>\n",
        "      <td> 10.373953</td>\n",
        "    </tr>\n",
        "    <tr>\n",
        "      <th>273</th>\n",
        "      <td>  2.600000</td>\n",
        "      <td> 10.088743</td>\n",
        "      <td> 21.158519</td>\n",
        "    </tr>\n",
        "    <tr>\n",
        "      <th>274</th>\n",
        "      <td>  3.715068</td>\n",
        "      <td> 12.063320</td>\n",
        "      <td> 17.082608</td>\n",
        "    </tr>\n",
        "    <tr>\n",
        "      <th>275</th>\n",
        "      <td>  1.972603</td>\n",
        "      <td> 12.590055</td>\n",
        "      <td> 13.095582</td>\n",
        "    </tr>\n",
        "    <tr>\n",
        "      <th>276</th>\n",
        "      <td>  9.435616</td>\n",
        "      <td>  9.995146</td>\n",
        "      <td> 13.049383</td>\n",
        "    </tr>\n",
        "    <tr>\n",
        "      <th>277</th>\n",
        "      <td>  0.493151</td>\n",
        "      <td> 11.385847</td>\n",
        "      <td>  7.975952</td>\n",
        "    </tr>\n",
        "    <tr>\n",
        "      <th>278</th>\n",
        "      <td> 14.038356</td>\n",
        "      <td> 14.036964</td>\n",
        "      <td>  9.542576</td>\n",
        "    </tr>\n",
        "    <tr>\n",
        "      <th>279</th>\n",
        "      <td>  2.235616</td>\n",
        "      <td> 12.188043</td>\n",
        "      <td> 18.961556</td>\n",
        "    </tr>\n",
        "    <tr>\n",
        "      <th>280</th>\n",
        "      <td>  7.167123</td>\n",
        "      <td> 12.178340</td>\n",
        "      <td>  7.399575</td>\n",
        "    </tr>\n",
        "    <tr>\n",
        "      <th>281</th>\n",
        "      <td> 11.967123</td>\n",
        "      <td> 11.171967</td>\n",
        "      <td>  9.886252</td>\n",
        "    </tr>\n",
        "    <tr>\n",
        "      <th>282</th>\n",
        "      <td>  2.400000</td>\n",
        "      <td> 11.311713</td>\n",
        "      <td> 33.380640</td>\n",
        "    </tr>\n",
        "    <tr>\n",
        "      <th>283</th>\n",
        "      <td> 10.158904</td>\n",
        "      <td>  9.322348</td>\n",
        "      <td> 11.140510</td>\n",
        "    </tr>\n",
        "    <tr>\n",
        "      <th>284</th>\n",
        "      <td>  6.608219</td>\n",
        "      <td> 12.031975</td>\n",
        "      <td> 10.915068</td>\n",
        "    </tr>\n",
        "    <tr>\n",
        "      <th>285</th>\n",
        "      <td>  1.742466</td>\n",
        "      <td>  8.001335</td>\n",
        "      <td>  7.033178</td>\n",
        "    </tr>\n",
        "    <tr>\n",
        "      <th>286</th>\n",
        "      <td>  7.627397</td>\n",
        "      <td>  9.587072</td>\n",
        "      <td> 10.526883</td>\n",
        "    </tr>\n",
        "    <tr>\n",
        "      <th>287</th>\n",
        "      <td>  3.221918</td>\n",
        "      <td> 12.951312</td>\n",
        "      <td> 14.545382</td>\n",
        "    </tr>\n",
        "    <tr>\n",
        "      <th>288</th>\n",
        "      <td> 14.005479</td>\n",
        "      <td> 12.438982</td>\n",
        "      <td> 12.139335</td>\n",
        "    </tr>\n",
        "    <tr>\n",
        "      <th>289</th>\n",
        "      <td> 20.712329</td>\n",
        "      <td> 11.271050</td>\n",
        "      <td>  8.469565</td>\n",
        "    </tr>\n",
        "    <tr>\n",
        "      <th>290</th>\n",
        "      <td> 16.109589</td>\n",
        "      <td>  9.075780</td>\n",
        "      <td> 13.696762</td>\n",
        "    </tr>\n",
        "    <tr>\n",
        "      <th>291</th>\n",
        "      <td> 21.369863</td>\n",
        "      <td> 13.280077</td>\n",
        "      <td>  9.796940</td>\n",
        "    </tr>\n",
        "    <tr>\n",
        "      <th>292</th>\n",
        "      <td>  6.016438</td>\n",
        "      <td> 10.156386</td>\n",
        "      <td>  5.247461</td>\n",
        "    </tr>\n",
        "    <tr>\n",
        "      <th>293</th>\n",
        "      <td> 12.821918</td>\n",
        "      <td>  8.585026</td>\n",
        "      <td>  8.847870</td>\n",
        "    </tr>\n",
        "    <tr>\n",
        "      <th>294</th>\n",
        "      <td> 16.800000</td>\n",
        "      <td> 10.147534</td>\n",
        "      <td>  8.970783</td>\n",
        "    </tr>\n",
        "    <tr>\n",
        "      <th>295</th>\n",
        "      <td>  6.673973</td>\n",
        "      <td> 10.324360</td>\n",
        "      <td> 12.699287</td>\n",
        "    </tr>\n",
        "    <tr>\n",
        "      <th>296</th>\n",
        "      <td> 14.498630</td>\n",
        "      <td> 11.368538</td>\n",
        "      <td> 10.347424</td>\n",
        "    </tr>\n",
        "    <tr>\n",
        "      <th>297</th>\n",
        "      <td> 16.767123</td>\n",
        "      <td> 10.846627</td>\n",
        "      <td> 14.068081</td>\n",
        "    </tr>\n",
        "    <tr>\n",
        "      <th>298</th>\n",
        "      <td>  1.413699</td>\n",
        "      <td>  9.367523</td>\n",
        "      <td> 12.858241</td>\n",
        "    </tr>\n",
        "    <tr>\n",
        "      <th>299</th>\n",
        "      <td>  5.293151</td>\n",
        "      <td> 11.249802</td>\n",
        "      <td> 12.631418</td>\n",
        "    </tr>\n",
        "    <tr>\n",
        "      <th>300</th>\n",
        "      <td>  8.745205</td>\n",
        "      <td> 10.172614</td>\n",
        "      <td> 22.060460</td>\n",
        "    </tr>\n",
        "    <tr>\n",
        "      <th>301</th>\n",
        "      <td>  1.775342</td>\n",
        "      <td>  8.981578</td>\n",
        "      <td>  7.102799</td>\n",
        "    </tr>\n",
        "    <tr>\n",
        "      <th>302</th>\n",
        "      <td>  3.978082</td>\n",
        "      <td> 11.811388</td>\n",
        "      <td>  5.553541</td>\n",
        "    </tr>\n",
        "    <tr>\n",
        "      <th>303</th>\n",
        "      <td>  3.123288</td>\n",
        "      <td>  9.811666</td>\n",
        "      <td> 14.258974</td>\n",
        "    </tr>\n",
        "    <tr>\n",
        "      <th>304</th>\n",
        "      <td>  3.254795</td>\n",
        "      <td> 12.748775</td>\n",
        "      <td> 11.301502</td>\n",
        "    </tr>\n",
        "    <tr>\n",
        "      <th>305</th>\n",
        "      <td> 15.452055</td>\n",
        "      <td> 11.705160</td>\n",
        "      <td> 16.317153</td>\n",
        "    </tr>\n",
        "    <tr>\n",
        "      <th>306</th>\n",
        "      <td> 13.150685</td>\n",
        "      <td> 10.813323</td>\n",
        "      <td> 12.057114</td>\n",
        "    </tr>\n",
        "    <tr>\n",
        "      <th>307</th>\n",
        "      <td> 11.736986</td>\n",
        "      <td> 12.722534</td>\n",
        "      <td> 14.224229</td>\n",
        "    </tr>\n",
        "    <tr>\n",
        "      <th>308</th>\n",
        "      <td>  2.564384</td>\n",
        "      <td> 10.564977</td>\n",
        "      <td> 15.000033</td>\n",
        "    </tr>\n",
        "    <tr>\n",
        "      <th>309</th>\n",
        "      <td>  2.926027</td>\n",
        "      <td>  7.066326</td>\n",
        "      <td>  7.155644</td>\n",
        "    </tr>\n",
        "    <tr>\n",
        "      <th></th>\n",
        "      <td>...</td>\n",
        "      <td>...</td>\n",
        "      <td>...</td>\n",
        "    </tr>\n",
        "  </tbody>\n",
        "</table>\n",
        "<p>106 rows \u00d7 3 columns</p>\n",
        "</div>"
       ],
       "metadata": {},
       "output_type": "pyout",
       "prompt_number": 148,
       "text": [
        "        actual       pred    pred_rf\n",
        "250   6.049300  10.732717   4.840301\n",
        "251  23.800000  13.495958  18.378786\n",
        "252  18.900000  11.068245  14.445641\n",
        "253   3.100000  11.867038   9.135485\n",
        "254   1.300000   6.723504  12.443664\n",
        "255   3.300000   9.705822   5.914341\n",
        "256   4.274000  10.399452  21.675905\n",
        "257   1.808200   9.278321  11.000545\n",
        "258  14.137000  11.799620  14.883739\n",
        "259   1.200000  12.098807  13.011445\n",
        "260   4.800000  11.987097  15.913833\n",
        "261  74.100000   8.699410  12.040907\n",
        "262   2.400000  11.696597   9.861757\n",
        "263   9.700000  11.618769  11.609613\n",
        "264  21.500000  10.670155  14.843507\n",
        "265   6.443800  10.433564   9.389594\n",
        "266   1.300000  12.169606  15.163008\n",
        "267  14.500000  12.343970   7.772904\n",
        "268   3.813700  12.599335  16.443356\n",
        "269   0.624700   9.311059   9.694087\n",
        "270   2.104100  12.212587  17.587849\n",
        "271   0.900000  13.108865  16.103315\n",
        "272  25.052100  10.748868  10.373953\n",
        "273   2.600000  10.088743  21.158519\n",
        "274   3.715068  12.063320  17.082608\n",
        "275   1.972603  12.590055  13.095582\n",
        "276   9.435616   9.995146  13.049383\n",
        "277   0.493151  11.385847   7.975952\n",
        "278  14.038356  14.036964   9.542576\n",
        "279   2.235616  12.188043  18.961556\n",
        "280   7.167123  12.178340   7.399575\n",
        "281  11.967123  11.171967   9.886252\n",
        "282   2.400000  11.311713  33.380640\n",
        "283  10.158904   9.322348  11.140510\n",
        "284   6.608219  12.031975  10.915068\n",
        "285   1.742466   8.001335   7.033178\n",
        "286   7.627397   9.587072  10.526883\n",
        "287   3.221918  12.951312  14.545382\n",
        "288  14.005479  12.438982  12.139335\n",
        "289  20.712329  11.271050   8.469565\n",
        "290  16.109589   9.075780  13.696762\n",
        "291  21.369863  13.280077   9.796940\n",
        "292   6.016438  10.156386   5.247461\n",
        "293  12.821918   8.585026   8.847870\n",
        "294  16.800000  10.147534   8.970783\n",
        "295   6.673973  10.324360  12.699287\n",
        "296  14.498630  11.368538  10.347424\n",
        "297  16.767123  10.846627  14.068081\n",
        "298   1.413699   9.367523  12.858241\n",
        "299   5.293151  11.249802  12.631418\n",
        "300   8.745205  10.172614  22.060460\n",
        "301   1.775342   8.981578   7.102799\n",
        "302   3.978082  11.811388   5.553541\n",
        "303   3.123288   9.811666  14.258974\n",
        "304   3.254795  12.748775  11.301502\n",
        "305  15.452055  11.705160  16.317153\n",
        "306  13.150685  10.813323  12.057114\n",
        "307  11.736986  12.722534  14.224229\n",
        "308   2.564384  10.564977  15.000033\n",
        "309   2.926027   7.066326   7.155644\n",
        "           ...        ...        ...\n",
        "\n",
        "[106 rows x 3 columns]"
       ]
      }
     ],
     "prompt_number": 148
    },
    {
     "cell_type": "code",
     "collapsed": false,
     "input": [
      "np.mean(np.abs(Ytest - Ypred) > np.abs(Ytest - Ypred_rf))"
     ],
     "language": "python",
     "metadata": {},
     "outputs": [
      {
       "metadata": {},
       "output_type": "pyout",
       "prompt_number": 151,
       "text": [
        "0.39622641509433965"
       ]
      }
     ],
     "prompt_number": 151
    },
    {
     "cell_type": "code",
     "collapsed": false,
     "input": [
      "np.mean(np.abs(Ytest - Ypred_rf))"
     ],
     "language": "python",
     "metadata": {},
     "outputs": [
      {
       "metadata": {},
       "output_type": "pyout",
       "prompt_number": 152,
       "text": [
        "9.3640203831093327"
       ]
      }
     ],
     "prompt_number": 152
    },
    {
     "cell_type": "code",
     "collapsed": false,
     "input": [
      "((~df['Dead']) & (df['SurvivalMonths']  < 4)).sum()"
     ],
     "language": "python",
     "metadata": {},
     "outputs": [
      {
       "metadata": {},
       "output_type": "pyout",
       "prompt_number": 161,
       "text": [
        "18"
       ]
      }
     ],
     "prompt_number": 161
    },
    {
     "cell_type": "code",
     "collapsed": false,
     "input": [],
     "language": "python",
     "metadata": {},
     "outputs": []
    }
   ],
   "metadata": {}
  }
 ]
}