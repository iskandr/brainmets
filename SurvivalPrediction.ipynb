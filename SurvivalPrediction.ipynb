{
 "metadata": {
  "name": ""
 },
 "nbformat": 3,
 "nbformat_minor": 0,
 "worksheets": [
  {
   "cells": [
    {
     "cell_type": "code",
     "collapsed": false,
     "input": [
      "df = pd.read_excel('BrainMets.xlsx', 'DATA', header=1)"
     ],
     "language": "python",
     "metadata": {},
     "outputs": [],
     "prompt_number": 1
    },
    {
     "cell_type": "code",
     "collapsed": false,
     "input": [
      "pred = df['Prediction(Cleveland Clinic)']"
     ],
     "language": "python",
     "metadata": {},
     "outputs": [],
     "prompt_number": 2
    },
    {
     "cell_type": "code",
     "collapsed": false,
     "input": [
      "df.columns"
     ],
     "language": "python",
     "metadata": {},
     "outputs": [
      {
       "metadata": {},
       "output_type": "pyout",
       "prompt_number": 3,
       "text": [
        "Index([u'age', u'cancer type', u'# of tumors', u'Extracranial Disease Status', u'K Score', u'ECOG', u'Prior WBRT', u'Brain Tumor Sx', u'RPA', u'Diagnosis of Primary at the same time as Brain tumor', u'Prediction(Cleveland Clinic)', u' Prediction (Lanie Francis)', u'Prediction(Flickinger)', u'Prediction(Loefler', u'Prediction(Knisely)', u'Prediction(Lunsford)', u'Prediction (Tahrini)', u'Prediction (Sheehan)', u'Prediction (Linskey)', u'Prediction(friedman)', u'Prediction(Stupp)', u'Prediction(Rakfal)', u'Prediction(Rush)', u' Prediction( Kondziolka)', u'Dead', u'Date Endpoint', u'GK 1', u'SurvivalMonths', u'Study'], dtype='object')"
       ]
      }
     ],
     "prompt_number": 3
    },
    {
     "cell_type": "code",
     "collapsed": false,
     "input": [],
     "language": "python",
     "metadata": {},
     "outputs": [],
     "prompt_number": 3
    },
    {
     "cell_type": "code",
     "collapsed": false,
     "input": [
      "dead = df['Dead'] == 1"
     ],
     "language": "python",
     "metadata": {},
     "outputs": [],
     "prompt_number": 4
    },
    {
     "cell_type": "code",
     "collapsed": false,
     "input": [
      "df.ix[~dead]['SurvivalMonths'].describe()"
     ],
     "language": "python",
     "metadata": {},
     "outputs": [
      {
       "metadata": {},
       "output_type": "pyout",
       "prompt_number": 5,
       "text": [
        "count    136.000000\n",
        "mean      14.908028\n",
        "std       13.038385\n",
        "min        0.000000\n",
        "25%        8.071233\n",
        "50%       14.268493\n",
        "75%       20.066096\n",
        "max      132.032877\n",
        "Name: SurvivalMonths, dtype: float64"
       ]
      }
     ],
     "prompt_number": 5
    },
    {
     "cell_type": "code",
     "collapsed": false,
     "input": [
      "df['cancer type'].unique()"
     ],
     "language": "python",
     "metadata": {},
     "outputs": [
      {
       "metadata": {},
       "output_type": "pyout",
       "prompt_number": 6,
       "text": [
        "array([u'Breast', u'NSCLC', u'SCLC', u'RCC', u'Melanoma', u'melanoma',\n",
        "       u'Carcinoid', u'Breast ', u'Endometrial', u'Sarcoma', u'Colon',\n",
        "       u'Rectal', u'breast', u'Prostate', u'Uterine', u'Nasopharyngeal'], dtype=object)"
       ]
      }
     ],
     "prompt_number": 6
    },
    {
     "cell_type": "code",
     "collapsed": false,
     "input": [
      "df2 = df.copy()"
     ],
     "language": "python",
     "metadata": {},
     "outputs": [],
     "prompt_number": 7
    },
    {
     "cell_type": "code",
     "collapsed": false,
     "input": [
      "df2['cancer type']  = df2['cancer type'].str.lower()"
     ],
     "language": "python",
     "metadata": {},
     "outputs": [],
     "prompt_number": 8
    },
    {
     "cell_type": "code",
     "collapsed": false,
     "input": [
      "df2['cancer type']"
     ],
     "language": "python",
     "metadata": {},
     "outputs": [
      {
       "metadata": {},
       "output_type": "pyout",
       "prompt_number": 9,
       "text": [
        "0     breast\n",
        "1      nsclc\n",
        "2      nsclc\n",
        "3      nsclc\n",
        "4       sclc\n",
        "5      nsclc\n",
        "6      nsclc\n",
        "7      nsclc\n",
        "8      nsclc\n",
        "9      nsclc\n",
        "10     nsclc\n",
        "11     nsclc\n",
        "12    breast\n",
        "13    breast\n",
        "14    breast\n",
        "...\n",
        "341              sclc\n",
        "342             nsclc\n",
        "343            breast\n",
        "344             nsclc\n",
        "345             nsclc\n",
        "346             nsclc\n",
        "347              sclc\n",
        "348             nsclc\n",
        "349           uterine\n",
        "350    nasopharyngeal\n",
        "351             nsclc\n",
        "352             nsclc\n",
        "353             nsclc\n",
        "354             colon\n",
        "355            breast\n",
        "Name: cancer type, Length: 356, dtype: object"
       ]
      }
     ],
     "prompt_number": 9
    },
    {
     "cell_type": "code",
     "collapsed": false,
     "input": [
      "df3 = df2.copy()"
     ],
     "language": "python",
     "metadata": {},
     "outputs": [],
     "prompt_number": 10
    },
    {
     "cell_type": "code",
     "collapsed": false,
     "input": [
      "cancer_types = df2['cancer type'].unique()"
     ],
     "language": "python",
     "metadata": {},
     "outputs": [],
     "prompt_number": 11
    },
    {
     "cell_type": "code",
     "collapsed": false,
     "input": [
      "cancer_type_col = np.zeros(len(df2['cancer type']), dtype=int)"
     ],
     "language": "python",
     "metadata": {},
     "outputs": [],
     "prompt_number": 12
    },
    {
     "cell_type": "code",
     "collapsed": false,
     "input": [
      "for (i, cancer_type) in enumerate(cancer_types):\n",
      "    cancer_type_col[np.array(df2['cancer type'] == cancer_type)] = i"
     ],
     "language": "python",
     "metadata": {},
     "outputs": [],
     "prompt_number": 13
    },
    {
     "cell_type": "code",
     "collapsed": false,
     "input": [
      "cancer_type_col"
     ],
     "language": "python",
     "metadata": {},
     "outputs": [
      {
       "metadata": {},
       "output_type": "pyout",
       "prompt_number": 14,
       "text": [
        "array([ 0,  1,  1,  1,  2,  1,  1,  1,  1,  1,  1,  1,  0,  0,  0,  0,  0,\n",
        "        1,  0,  1,  0,  0,  0,  1,  0,  0,  0,  1,  1,  0,  0,  0,  1,  0,\n",
        "        0,  0,  1,  1,  3,  1,  1,  1,  1,  2,  0,  0,  1,  1,  0,  1,  1,\n",
        "        1,  1,  1,  1,  1,  1,  1,  1,  4,  4,  4,  4,  1,  1,  0,  4,  1,\n",
        "        1,  1,  4,  1,  1,  0,  2,  1,  0,  1,  1,  3,  3,  1,  1,  1,  0,\n",
        "        4,  1,  1,  1,  4,  1,  1,  1,  3,  4,  1,  4,  1,  1,  1,  1,  1,\n",
        "        1,  4,  2,  1,  4,  1,  0,  4,  4,  1,  1,  1,  1,  4,  4,  0,  0,\n",
        "        4,  2,  0,  3,  1,  0,  2,  4,  1,  1,  0,  1,  3,  1,  2,  2,  2,\n",
        "        4,  4,  1,  3,  1,  5,  1,  0,  1,  1,  4,  1,  1,  4,  1,  1,  4,\n",
        "        2,  0,  1,  4,  1,  0,  0,  1,  1,  6,  4,  1,  1,  1,  1,  1,  1,\n",
        "        1,  1,  4,  4,  4,  0,  0,  1,  1,  1,  1,  0,  1,  1,  1,  1,  1,\n",
        "        1,  3,  3,  1,  4,  1,  4,  1,  1,  1,  1,  7,  0,  2,  3,  1,  1,\n",
        "        0,  4,  0,  1,  1,  2,  1,  4,  1,  1,  1,  3,  0,  1,  1,  0,  1,\n",
        "        2,  1,  1,  2,  0,  4,  1,  0,  0,  1,  1,  1,  1,  1,  1,  1,  0,\n",
        "        1,  2,  1,  1,  1,  4,  8,  0,  0,  1,  1,  1,  4,  1,  0,  2,  1,\n",
        "        1,  4,  4,  1,  1,  1,  1,  1,  1,  1,  3,  1,  1,  4,  4,  4,  1,\n",
        "        4,  1,  2,  4,  1,  1,  1,  9,  0,  1,  1,  1,  0,  2, 10,  4,  0,\n",
        "        0,  6,  1,  0,  1,  1,  2,  1,  7,  2,  1,  1,  1,  0,  3,  1,  3,\n",
        "        0,  9,  1,  4,  0,  1,  0,  1,  0,  0,  3,  0,  1,  4,  1,  1,  3,\n",
        "        2,  1,  1,  1,  0,  1,  1,  2,  1,  2,  1,  4,  1,  1, 11,  0,  1,\n",
        "        0,  2,  1,  0,  1,  1,  1,  2,  1, 12, 13,  1,  1,  1,  9,  0])"
       ]
      }
     ],
     "prompt_number": 14
    },
    {
     "cell_type": "code",
     "collapsed": false,
     "input": [
      "df3['cancer type'] = cancer_type_col"
     ],
     "language": "python",
     "metadata": {},
     "outputs": [],
     "prompt_number": 15
    },
    {
     "cell_type": "code",
     "collapsed": false,
     "input": [
      "X = df3[['age', 'cancer type', '# of tumors',  'ECOG', 'Prior WBRT', 'Brain Tumor Sx', 'RPA', 'Diagnosis of Primary at the same time as Brain tumor']]"
     ],
     "language": "python",
     "metadata": {},
     "outputs": [],
     "prompt_number": 16
    },
    {
     "cell_type": "code",
     "collapsed": false,
     "input": [
      "sklearn.preprocessing.OneHotEncoder?"
     ],
     "language": "python",
     "metadata": {},
     "outputs": [],
     "prompt_number": 17
    },
    {
     "cell_type": "code",
     "collapsed": false,
     "input": [
      "months_to_live = 12\n",
      "n_train = 250\n",
      "mask = (df['Dead'] | (df['SurvivalMonths'] >= months_to_live))\n",
      "y = np.array((df['Dead'] & (df['SurvivalMonths'] < months_to_live)).ix[mask] == 1)\n",
      "Xa = np.array(X.ix[mask]).astype('int')\n",
      "n_features = Xa.shape[1]\n",
      "binarize_mask = np.ones(n_features, dtype=bool)\n",
      "binarize_mask[0] = False\n",
      "binarizer = sklearn.preprocessing.OneHotEncoder(categorical_features = binarize_mask)\n",
      "Xa = binarizer.fit_transform(Xa).todense()\n",
      "idx = np.arange(len(y))\n",
      "np.random.shuffle(idx)\n",
      "yshuffle = y[idx]\n",
      "Xshuffle = Xa[idx]\n",
      "Xtrain = Xshuffle[:n_train]\n",
      "Ytrain = yshuffle[:n_train]\n",
      "Xtest = Xshuffle[n_train:]\n",
      "Ytest = yshuffle[n_train:]\n",
      "print Xtest[[0,1,2], :]\n",
      "print Ytest[[0,1,2]]\n",
      "print np.mean(Ytrain)\n",
      "print np.mean(Ytest)\n",
      "print Xtrain.shape\n",
      "print Xtest.shape"
     ],
     "language": "python",
     "metadata": {},
     "outputs": [
      {
       "output_type": "stream",
       "stream": "stdout",
       "text": [
        "[[  0.   1.   0.   0.   0.   0.   0.   0.   0.   0.   0.   0.   0.   1.\n",
        "    0.   0.   0.   0.   0.   0.   0.   0.   0.   0.   0.   0.   0.   0.\n",
        "    0.   0.   0.   0.   0.   1.   0.   0.   0.   1.   1.   0.   0.   0.\n",
        "    1.   0.   0.   0.   1.  45.]\n",
        " [  1.   0.   0.   0.   0.   0.   0.   0.   0.   0.   0.   0.   0.   0.\n",
        "    0.   0.   0.   0.   0.   0.   0.   0.   0.   1.   0.   0.   0.   0.\n",
        "    0.   0.   0.   0.   0.   1.   0.   0.   0.   1.   0.   0.   1.   0.\n",
        "    0.   1.   0.   1.   0.  61.]\n",
        " [  1.   0.   0.   0.   0.   0.   0.   0.   0.   0.   0.   0.   0.   1.\n",
        "    0.   0.   0.   0.   0.   0.   0.   0.   0.   0.   0.   0.   0.   0.\n",
        "    0.   0.   0.   0.   0.   0.   1.   0.   0.   1.   0.   0.   1.   0.\n",
        "    0.   1.   0.   1.   0.  72.]]\n",
        "[False False  True]\n",
        "0.568\n",
        "0.537037037037\n",
        "(250, 48)\n",
        "(54, 48)\n"
       ]
      }
     ],
     "prompt_number": 18
    },
    {
     "cell_type": "code",
     "collapsed": false,
     "input": [
      "lr = sklearn.linear_model.LogisticRegression()\n",
      "lr.fit(Xtrain, Ytrain)\n",
      "Ypred = lr.predict(Xtest)\n",
      "print(np.mean(Ypred))\n",
      "np.mean(Ypred == Ytest)"
     ],
     "language": "python",
     "metadata": {},
     "outputs": [
      {
       "output_type": "stream",
       "stream": "stdout",
       "text": [
        "0.722222222222\n"
       ]
      },
      {
       "metadata": {},
       "output_type": "pyout",
       "prompt_number": 19,
       "text": [
        "0.55555555555555558"
       ]
      }
     ],
     "prompt_number": 19
    },
    {
     "cell_type": "code",
     "collapsed": false,
     "input": [
      "\"rf = sklearn.ensemble.RandomForestClassifier(n_estimators = 300)\n",
      "rf.fit(Xtrain, Ytrain)\n",
      "Ypred_rf = rf.predict(Xtest)\n",
      "print(np.mean(Ypred_rf))\n",
      "np.mean(Ypred_rf == Ytest)"
     ],
     "language": "python",
     "metadata": {},
     "outputs": [
      {
       "ename": "SyntaxError",
       "evalue": "EOL while scanning string literal (<ipython-input-20-d07f529efe31>, line 1)",
       "output_type": "pyerr",
       "traceback": [
        "\u001b[0;36m  File \u001b[0;32m\"<ipython-input-20-d07f529efe31>\"\u001b[0;36m, line \u001b[0;32m1\u001b[0m\n\u001b[0;31m    \"rf = sklearn.ensemble.RandomForestClassifier(n_estimators = 300)\u001b[0m\n\u001b[0m                                                                    ^\u001b[0m\n\u001b[0;31mSyntaxError\u001b[0m\u001b[0;31m:\u001b[0m EOL while scanning string literal\n"
       ]
      }
     ],
     "prompt_number": 20
    },
    {
     "cell_type": "code",
     "collapsed": false,
     "input": [
      "et = sklearn.ensemble.ExtraTreesClassifier(n_estimators = 300)\n",
      "et.fit(Xtrain, Ytrain)\n",
      "Ypred_et = et.predict(Xtest)\n",
      "print(np.mean(Ypred_et))\n",
      "np.mean(Ypred_et == Ytest)"
     ],
     "language": "python",
     "metadata": {},
     "outputs": [
      {
       "output_type": "stream",
       "stream": "stdout",
       "text": [
        "0.425925925926\n"
       ]
      },
      {
       "metadata": {},
       "output_type": "pyout",
       "prompt_number": 21,
       "text": [
        "0.55555555555555558"
       ]
      }
     ],
     "prompt_number": 21
    },
    {
     "cell_type": "code",
     "collapsed": false,
     "input": [
      "rf = sklearn.ensemble.RandomForestRegressor(n_estimators=200)"
     ],
     "language": "python",
     "metadata": {},
     "outputs": [],
     "prompt_number": 22
    },
    {
     "cell_type": "code",
     "collapsed": false,
     "input": [
      "rf.fit(Xtrain, Ytrain)"
     ],
     "language": "python",
     "metadata": {},
     "outputs": [
      {
       "metadata": {},
       "output_type": "pyout",
       "prompt_number": 23,
       "text": [
        "RandomForestRegressor(bootstrap=True, compute_importances=None,\n",
        "           criterion='mse', max_depth=None, max_features='auto',\n",
        "           min_density=None, min_samples_leaf=1, min_samples_split=2,\n",
        "           n_estimators=200, n_jobs=1, oob_score=False, random_state=None,\n",
        "           verbose=0)"
       ]
      }
     ],
     "prompt_number": 23
    },
    {
     "cell_type": "code",
     "collapsed": false,
     "input": [
      "Ypred_rf = rf.predict(Xtest)"
     ],
     "language": "python",
     "metadata": {},
     "outputs": [],
     "prompt_number": 24
    },
    {
     "cell_type": "code",
     "collapsed": false,
     "input": [
      "pd.DataFrame({'pred_rf': Ypred_rf, 'pred': Ypred,  'actual':Ytest})"
     ],
     "language": "python",
     "metadata": {},
     "outputs": [
      {
       "html": [
        "<div style=\"max-height:1000px;max-width:1500px;overflow:auto;\">\n",
        "<table border=\"1\" class=\"dataframe\">\n",
        "  <thead>\n",
        "    <tr style=\"text-align: right;\">\n",
        "      <th></th>\n",
        "      <th>actual</th>\n",
        "      <th>pred</th>\n",
        "      <th>pred_rf</th>\n",
        "    </tr>\n",
        "  </thead>\n",
        "  <tbody>\n",
        "    <tr>\n",
        "      <th>0 </th>\n",
        "      <td> False</td>\n",
        "      <td>  True</td>\n",
        "      <td> 0.683917</td>\n",
        "    </tr>\n",
        "    <tr>\n",
        "      <th>1 </th>\n",
        "      <td> False</td>\n",
        "      <td> False</td>\n",
        "      <td> 0.180000</td>\n",
        "    </tr>\n",
        "    <tr>\n",
        "      <th>2 </th>\n",
        "      <td>  True</td>\n",
        "      <td> False</td>\n",
        "      <td> 0.255000</td>\n",
        "    </tr>\n",
        "    <tr>\n",
        "      <th>3 </th>\n",
        "      <td> False</td>\n",
        "      <td>  True</td>\n",
        "      <td> 0.895000</td>\n",
        "    </tr>\n",
        "    <tr>\n",
        "      <th>4 </th>\n",
        "      <td>  True</td>\n",
        "      <td> False</td>\n",
        "      <td> 0.325000</td>\n",
        "    </tr>\n",
        "    <tr>\n",
        "      <th>5 </th>\n",
        "      <td> False</td>\n",
        "      <td>  True</td>\n",
        "      <td> 0.590000</td>\n",
        "    </tr>\n",
        "    <tr>\n",
        "      <th>6 </th>\n",
        "      <td>  True</td>\n",
        "      <td>  True</td>\n",
        "      <td> 0.235000</td>\n",
        "    </tr>\n",
        "    <tr>\n",
        "      <th>7 </th>\n",
        "      <td> False</td>\n",
        "      <td>  True</td>\n",
        "      <td> 0.702083</td>\n",
        "    </tr>\n",
        "    <tr>\n",
        "      <th>8 </th>\n",
        "      <td>  True</td>\n",
        "      <td>  True</td>\n",
        "      <td> 0.435000</td>\n",
        "    </tr>\n",
        "    <tr>\n",
        "      <th>9 </th>\n",
        "      <td> False</td>\n",
        "      <td>  True</td>\n",
        "      <td> 0.695000</td>\n",
        "    </tr>\n",
        "    <tr>\n",
        "      <th>10</th>\n",
        "      <td>  True</td>\n",
        "      <td> False</td>\n",
        "      <td> 0.255000</td>\n",
        "    </tr>\n",
        "    <tr>\n",
        "      <th>11</th>\n",
        "      <td> False</td>\n",
        "      <td> False</td>\n",
        "      <td> 0.070000</td>\n",
        "    </tr>\n",
        "    <tr>\n",
        "      <th>12</th>\n",
        "      <td>  True</td>\n",
        "      <td>  True</td>\n",
        "      <td> 0.743750</td>\n",
        "    </tr>\n",
        "    <tr>\n",
        "      <th>13</th>\n",
        "      <td> False</td>\n",
        "      <td> False</td>\n",
        "      <td> 0.412583</td>\n",
        "    </tr>\n",
        "    <tr>\n",
        "      <th>14</th>\n",
        "      <td>  True</td>\n",
        "      <td> False</td>\n",
        "      <td> 0.270000</td>\n",
        "    </tr>\n",
        "    <tr>\n",
        "      <th>15</th>\n",
        "      <td>  True</td>\n",
        "      <td> False</td>\n",
        "      <td> 0.725000</td>\n",
        "    </tr>\n",
        "    <tr>\n",
        "      <th>16</th>\n",
        "      <td>  True</td>\n",
        "      <td>  True</td>\n",
        "      <td> 0.785000</td>\n",
        "    </tr>\n",
        "    <tr>\n",
        "      <th>17</th>\n",
        "      <td> False</td>\n",
        "      <td>  True</td>\n",
        "      <td> 0.727500</td>\n",
        "    </tr>\n",
        "    <tr>\n",
        "      <th>18</th>\n",
        "      <td>  True</td>\n",
        "      <td>  True</td>\n",
        "      <td> 0.731310</td>\n",
        "    </tr>\n",
        "    <tr>\n",
        "      <th>19</th>\n",
        "      <td>  True</td>\n",
        "      <td>  True</td>\n",
        "      <td> 0.747500</td>\n",
        "    </tr>\n",
        "    <tr>\n",
        "      <th>20</th>\n",
        "      <td>  True</td>\n",
        "      <td>  True</td>\n",
        "      <td> 0.845000</td>\n",
        "    </tr>\n",
        "    <tr>\n",
        "      <th>21</th>\n",
        "      <td>  True</td>\n",
        "      <td> False</td>\n",
        "      <td> 0.255000</td>\n",
        "    </tr>\n",
        "    <tr>\n",
        "      <th>22</th>\n",
        "      <td>  True</td>\n",
        "      <td> False</td>\n",
        "      <td> 0.190000</td>\n",
        "    </tr>\n",
        "    <tr>\n",
        "      <th>23</th>\n",
        "      <td> False</td>\n",
        "      <td>  True</td>\n",
        "      <td> 0.440000</td>\n",
        "    </tr>\n",
        "    <tr>\n",
        "      <th>24</th>\n",
        "      <td>  True</td>\n",
        "      <td>  True</td>\n",
        "      <td> 0.370000</td>\n",
        "    </tr>\n",
        "    <tr>\n",
        "      <th>25</th>\n",
        "      <td>  True</td>\n",
        "      <td>  True</td>\n",
        "      <td> 0.515000</td>\n",
        "    </tr>\n",
        "    <tr>\n",
        "      <th>26</th>\n",
        "      <td>  True</td>\n",
        "      <td>  True</td>\n",
        "      <td> 0.570000</td>\n",
        "    </tr>\n",
        "    <tr>\n",
        "      <th>27</th>\n",
        "      <td>  True</td>\n",
        "      <td>  True</td>\n",
        "      <td> 0.942500</td>\n",
        "    </tr>\n",
        "    <tr>\n",
        "      <th>28</th>\n",
        "      <td> False</td>\n",
        "      <td>  True</td>\n",
        "      <td> 0.677500</td>\n",
        "    </tr>\n",
        "    <tr>\n",
        "      <th>29</th>\n",
        "      <td>  True</td>\n",
        "      <td>  True</td>\n",
        "      <td> 0.560000</td>\n",
        "    </tr>\n",
        "    <tr>\n",
        "      <th>30</th>\n",
        "      <td> False</td>\n",
        "      <td>  True</td>\n",
        "      <td> 0.780000</td>\n",
        "    </tr>\n",
        "    <tr>\n",
        "      <th>31</th>\n",
        "      <td> False</td>\n",
        "      <td> False</td>\n",
        "      <td> 0.120000</td>\n",
        "    </tr>\n",
        "    <tr>\n",
        "      <th>32</th>\n",
        "      <td>  True</td>\n",
        "      <td>  True</td>\n",
        "      <td> 0.415000</td>\n",
        "    </tr>\n",
        "    <tr>\n",
        "      <th>33</th>\n",
        "      <td> False</td>\n",
        "      <td>  True</td>\n",
        "      <td> 0.535000</td>\n",
        "    </tr>\n",
        "    <tr>\n",
        "      <th>34</th>\n",
        "      <td> False</td>\n",
        "      <td>  True</td>\n",
        "      <td> 0.590000</td>\n",
        "    </tr>\n",
        "    <tr>\n",
        "      <th>35</th>\n",
        "      <td>  True</td>\n",
        "      <td>  True</td>\n",
        "      <td> 0.580000</td>\n",
        "    </tr>\n",
        "    <tr>\n",
        "      <th>36</th>\n",
        "      <td> False</td>\n",
        "      <td> False</td>\n",
        "      <td> 0.320000</td>\n",
        "    </tr>\n",
        "    <tr>\n",
        "      <th>37</th>\n",
        "      <td> False</td>\n",
        "      <td> False</td>\n",
        "      <td> 0.845000</td>\n",
        "    </tr>\n",
        "    <tr>\n",
        "      <th>38</th>\n",
        "      <td> False</td>\n",
        "      <td>  True</td>\n",
        "      <td> 0.493333</td>\n",
        "    </tr>\n",
        "    <tr>\n",
        "      <th>39</th>\n",
        "      <td> False</td>\n",
        "      <td> False</td>\n",
        "      <td> 0.405000</td>\n",
        "    </tr>\n",
        "    <tr>\n",
        "      <th>40</th>\n",
        "      <td> False</td>\n",
        "      <td>  True</td>\n",
        "      <td> 0.660000</td>\n",
        "    </tr>\n",
        "    <tr>\n",
        "      <th>41</th>\n",
        "      <td>  True</td>\n",
        "      <td>  True</td>\n",
        "      <td> 0.560000</td>\n",
        "    </tr>\n",
        "    <tr>\n",
        "      <th>42</th>\n",
        "      <td>  True</td>\n",
        "      <td>  True</td>\n",
        "      <td> 0.445000</td>\n",
        "    </tr>\n",
        "    <tr>\n",
        "      <th>43</th>\n",
        "      <td>  True</td>\n",
        "      <td>  True</td>\n",
        "      <td> 0.772500</td>\n",
        "    </tr>\n",
        "    <tr>\n",
        "      <th>44</th>\n",
        "      <td> False</td>\n",
        "      <td>  True</td>\n",
        "      <td> 0.130000</td>\n",
        "    </tr>\n",
        "    <tr>\n",
        "      <th>45</th>\n",
        "      <td>  True</td>\n",
        "      <td>  True</td>\n",
        "      <td> 0.375000</td>\n",
        "    </tr>\n",
        "    <tr>\n",
        "      <th>46</th>\n",
        "      <td> False</td>\n",
        "      <td>  True</td>\n",
        "      <td> 0.265333</td>\n",
        "    </tr>\n",
        "    <tr>\n",
        "      <th>47</th>\n",
        "      <td> False</td>\n",
        "      <td>  True</td>\n",
        "      <td> 0.730000</td>\n",
        "    </tr>\n",
        "    <tr>\n",
        "      <th>48</th>\n",
        "      <td>  True</td>\n",
        "      <td>  True</td>\n",
        "      <td> 0.525000</td>\n",
        "    </tr>\n",
        "    <tr>\n",
        "      <th>49</th>\n",
        "      <td> False</td>\n",
        "      <td> False</td>\n",
        "      <td> 0.605000</td>\n",
        "    </tr>\n",
        "    <tr>\n",
        "      <th>50</th>\n",
        "      <td>  True</td>\n",
        "      <td>  True</td>\n",
        "      <td> 0.845000</td>\n",
        "    </tr>\n",
        "    <tr>\n",
        "      <th>51</th>\n",
        "      <td>  True</td>\n",
        "      <td>  True</td>\n",
        "      <td> 0.497500</td>\n",
        "    </tr>\n",
        "    <tr>\n",
        "      <th>52</th>\n",
        "      <td>  True</td>\n",
        "      <td>  True</td>\n",
        "      <td> 0.800000</td>\n",
        "    </tr>\n",
        "    <tr>\n",
        "      <th>53</th>\n",
        "      <td> False</td>\n",
        "      <td>  True</td>\n",
        "      <td> 0.507583</td>\n",
        "    </tr>\n",
        "  </tbody>\n",
        "</table>\n",
        "<p>54 rows \u00d7 3 columns</p>\n",
        "</div>"
       ],
       "metadata": {},
       "output_type": "pyout",
       "prompt_number": 25,
       "text": [
        "   actual   pred   pred_rf\n",
        "0   False   True  0.683917\n",
        "1   False  False  0.180000\n",
        "2    True  False  0.255000\n",
        "3   False   True  0.895000\n",
        "4    True  False  0.325000\n",
        "5   False   True  0.590000\n",
        "6    True   True  0.235000\n",
        "7   False   True  0.702083\n",
        "8    True   True  0.435000\n",
        "9   False   True  0.695000\n",
        "10   True  False  0.255000\n",
        "11  False  False  0.070000\n",
        "12   True   True  0.743750\n",
        "13  False  False  0.412583\n",
        "14   True  False  0.270000\n",
        "15   True  False  0.725000\n",
        "16   True   True  0.785000\n",
        "17  False   True  0.727500\n",
        "18   True   True  0.731310\n",
        "19   True   True  0.747500\n",
        "20   True   True  0.845000\n",
        "21   True  False  0.255000\n",
        "22   True  False  0.190000\n",
        "23  False   True  0.440000\n",
        "24   True   True  0.370000\n",
        "25   True   True  0.515000\n",
        "26   True   True  0.570000\n",
        "27   True   True  0.942500\n",
        "28  False   True  0.677500\n",
        "29   True   True  0.560000\n",
        "30  False   True  0.780000\n",
        "31  False  False  0.120000\n",
        "32   True   True  0.415000\n",
        "33  False   True  0.535000\n",
        "34  False   True  0.590000\n",
        "35   True   True  0.580000\n",
        "36  False  False  0.320000\n",
        "37  False  False  0.845000\n",
        "38  False   True  0.493333\n",
        "39  False  False  0.405000\n",
        "40  False   True  0.660000\n",
        "41   True   True  0.560000\n",
        "42   True   True  0.445000\n",
        "43   True   True  0.772500\n",
        "44  False   True  0.130000\n",
        "45   True   True  0.375000\n",
        "46  False   True  0.265333\n",
        "47  False   True  0.730000\n",
        "48   True   True  0.525000\n",
        "49  False  False  0.605000\n",
        "50   True   True  0.845000\n",
        "51   True   True  0.497500\n",
        "52   True   True  0.800000\n",
        "53  False   True  0.507583\n",
        "\n",
        "[54 rows x 3 columns]"
       ]
      }
     ],
     "prompt_number": 25
    },
    {
     "cell_type": "code",
     "collapsed": false,
     "input": [
      "np.mean(np.abs(Ytest - Ypred) > np.abs(Ytest - Ypred_rf))"
     ],
     "language": "python",
     "metadata": {},
     "outputs": [
      {
       "metadata": {},
       "output_type": "pyout",
       "prompt_number": 26,
       "text": [
        "0.44444444444444442"
       ]
      }
     ],
     "prompt_number": 26
    },
    {
     "cell_type": "code",
     "collapsed": false,
     "input": [
      "np.mean(np.abs(Ytest - Ypred_rf))"
     ],
     "language": "python",
     "metadata": {},
     "outputs": [
      {
       "metadata": {},
       "output_type": "pyout",
       "prompt_number": 27,
       "text": [
        "0.49055136684303363"
       ]
      }
     ],
     "prompt_number": 27
    },
    {
     "cell_type": "code",
     "collapsed": false,
     "input": [
      "((~df['Dead']) & (df['SurvivalMonths']  < 4)).sum()"
     ],
     "language": "python",
     "metadata": {},
     "outputs": [
      {
       "metadata": {},
       "output_type": "pyout",
       "prompt_number": 28,
       "text": [
        "18"
       ]
      }
     ],
     "prompt_number": 28
    },
    {
     "cell_type": "code",
     "collapsed": false,
     "input": [],
     "language": "python",
     "metadata": {},
     "outputs": [],
     "prompt_number": 28
    },
    {
     "cell_type": "code",
     "collapsed": false,
     "input": [],
     "language": "python",
     "metadata": {},
     "outputs": [],
     "prompt_number": 28
    },
    {
     "cell_type": "code",
     "collapsed": false,
     "input": [],
     "language": "python",
     "metadata": {},
     "outputs": [],
     "prompt_number": 28
    },
    {
     "cell_type": "code",
     "collapsed": false,
     "input": [],
     "language": "python",
     "metadata": {},
     "outputs": [],
     "prompt_number": 28
    },
    {
     "cell_type": "code",
     "collapsed": false,
     "input": [],
     "language": "python",
     "metadata": {},
     "outputs": [],
     "prompt_number": 28
    },
    {
     "cell_type": "code",
     "collapsed": false,
     "input": [],
     "language": "python",
     "metadata": {},
     "outputs": [],
     "prompt_number": 28
    },
    {
     "cell_type": "code",
     "collapsed": false,
     "input": [],
     "language": "python",
     "metadata": {},
     "outputs": [],
     "prompt_number": 28
    },
    {
     "cell_type": "code",
     "collapsed": false,
     "input": [],
     "language": "python",
     "metadata": {},
     "outputs": []
    }
   ],
   "metadata": {}
  }
 ]
}